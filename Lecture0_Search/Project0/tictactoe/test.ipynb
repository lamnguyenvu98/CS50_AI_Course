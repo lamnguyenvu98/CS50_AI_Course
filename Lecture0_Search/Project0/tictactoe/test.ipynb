{
 "cells": [
  {
   "cell_type": "code",
   "execution_count": 143,
   "source": [
    "import numpy as np \n",
    "\n",
    "x = 'X'\n",
    "o = 'O'\n",
    "empty = None\n",
    "\n",
    "board = [[o, x, x], [x, o, o], [o, x, o]]\n",
    "np.array(board)"
   ],
   "outputs": [
    {
     "output_type": "execute_result",
     "data": {
      "text/plain": [
       "array([['O', 'X', 'X'],\n",
       "       ['X', 'O', 'O'],\n",
       "       ['O', 'X', 'O']], dtype='<U1')"
      ]
     },
     "metadata": {},
     "execution_count": 143
    }
   ],
   "metadata": {}
  },
  {
   "cell_type": "code",
   "execution_count": 124,
   "source": [
    "def turns(board):\n",
    "    if terminal(board):\n",
    "        return\n",
    "    track = {}\n",
    "    track[x] = 0\n",
    "    track[o] = 0\n",
    "    for states in board:\n",
    "        for state in states:\n",
    "            if state is not None:\n",
    "                track[state] += 1\n",
    "            \n",
    "    if track[o] < track[x]:\n",
    "        return o\n",
    "    return x\n",
    "    "
   ],
   "outputs": [],
   "metadata": {}
  },
  {
   "cell_type": "code",
   "execution_count": 125,
   "source": [
    "turns(board)"
   ],
   "outputs": [],
   "metadata": {}
  },
  {
   "cell_type": "code",
   "execution_count": 126,
   "source": [
    "def actions(board):\n",
    "    \"\"\"\n",
    "    Returns set of all possible actions (i, j) available on the board.\n",
    "    \"\"\"\n",
    "    action = set()\n",
    "    for i in range(len(board)):\n",
    "        for j in range(len(board[0])):\n",
    "            if board[i][j] is None:\n",
    "                action.add((i, j))\n",
    "    return action"
   ],
   "outputs": [],
   "metadata": {}
  },
  {
   "cell_type": "code",
   "execution_count": 127,
   "source": [
    "actions(board)"
   ],
   "outputs": [
    {
     "output_type": "execute_result",
     "data": {
      "text/plain": [
       "set()"
      ]
     },
     "metadata": {},
     "execution_count": 127
    }
   ],
   "metadata": {}
  },
  {
   "cell_type": "code",
   "execution_count": 128,
   "source": [
    "def result(board, action):\n",
    "    \"\"\"\n",
    "    Returns the board that results from making move (i, j) on the board.\n",
    "    \"\"\"\n",
    "    from copy import deepcopy\n",
    "    result = deepcopy(board)\n",
    "    result[action[0]][action[1]] = turns(board)\n",
    "    return result"
   ],
   "outputs": [],
   "metadata": {}
  },
  {
   "cell_type": "code",
   "execution_count": 139,
   "source": [
    "import numpy as np\n",
    "def winner(board):\n",
    "    b = np.array(board)\n",
    "    if np.all(o == b, axis=0).sum() or np.all(o == b, axis=1).sum()\\\n",
    "        or all(b.diagonal() == o) or all(np.rot90(b).diagonal() == o):\n",
    "        return o\n",
    "    elif np.all(x == b, axis=0).sum() or np.all(x == b, axis=1).sum()\\\n",
    "        or all(b.diagonal() == x) or all(np.rot90(b).diagonal() == x):\n",
    "        return x\n",
    "    return None"
   ],
   "outputs": [],
   "metadata": {}
  },
  {
   "cell_type": "code",
   "execution_count": 144,
   "source": [
    "print(winner(board))"
   ],
   "outputs": [
    {
     "output_type": "stream",
     "name": "stdout",
     "text": [
      "O\n"
     ]
    }
   ],
   "metadata": {}
  },
  {
   "cell_type": "code",
   "execution_count": 112,
   "source": [
    "def terminal(board):\n",
    "    \"\"\"\n",
    "    Returns True if game is over, False otherwise.\n",
    "    \"\"\"\n",
    "    if winner(board) is not None or not any(empty in sub for sub in board):\n",
    "        return True\n",
    "    else: return False"
   ],
   "outputs": [],
   "metadata": {}
  },
  {
   "cell_type": "code",
   "execution_count": 116,
   "source": [
    "def utility(board):\n",
    "    \"\"\"\n",
    "    Returns 1 if X has won the game, -1 if O has won, 0 otherwise.\n",
    "    \"\"\"\n",
    "    win = winner(board)\n",
    "    if terminal(board):\n",
    "        return 1 if win == x else -1 if win == o else 0\n",
    "    raise NotImplementedError"
   ],
   "outputs": [],
   "metadata": {}
  },
  {
   "cell_type": "code",
   "execution_count": 145,
   "source": [
    "print(utility(board))"
   ],
   "outputs": [
    {
     "output_type": "stream",
     "name": "stdout",
     "text": [
      "-1\n"
     ]
    }
   ],
   "metadata": {}
  }
 ],
 "metadata": {
  "orig_nbformat": 4,
  "language_info": {
   "name": "python",
   "version": "3.8.11",
   "mimetype": "text/x-python",
   "codemirror_mode": {
    "name": "ipython",
    "version": 3
   },
   "pygments_lexer": "ipython3",
   "nbconvert_exporter": "python",
   "file_extension": ".py"
  },
  "kernelspec": {
   "name": "python3",
   "display_name": "Python 3.8.11 64-bit ('python_ai': conda)"
  },
  "interpreter": {
   "hash": "673a2ca7ccb4a339972aa9ca4c929282fec68bbeff52950d362f3784e4401195"
  }
 },
 "nbformat": 4,
 "nbformat_minor": 2
}