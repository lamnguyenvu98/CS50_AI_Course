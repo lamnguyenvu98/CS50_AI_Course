{
 "cells": [
  {
   "cell_type": "code",
   "execution_count": 129,
   "source": [
    "import pandas as pd \n",
    "\n",
    "directory = 'large'\n",
    "\n",
    "movies = pd.read_csv(f'./{directory}/movies.csv')\n",
    "peoples = pd.read_csv(f'./{directory}/people.csv')\n",
    "stars = pd.read_csv(f'./{directory}/stars.csv')\n",
    "\n",
    "movies.head()"
   ],
   "outputs": [
    {
     "output_type": "execute_result",
     "data": {
      "text/plain": [
       "      id                        title  year\n",
       "0  15724                Dama de noche  1993\n",
       "1  23331              Pesn o geroyakh  1983\n",
       "2  31458     El huésped del sevillano  1970\n",
       "3  35423               Kate & Leopold  2001\n",
       "4  36606  Another Time, Another Place  1983"
      ],
      "text/html": [
       "<div>\n",
       "<style scoped>\n",
       "    .dataframe tbody tr th:only-of-type {\n",
       "        vertical-align: middle;\n",
       "    }\n",
       "\n",
       "    .dataframe tbody tr th {\n",
       "        vertical-align: top;\n",
       "    }\n",
       "\n",
       "    .dataframe thead th {\n",
       "        text-align: right;\n",
       "    }\n",
       "</style>\n",
       "<table border=\"1\" class=\"dataframe\">\n",
       "  <thead>\n",
       "    <tr style=\"text-align: right;\">\n",
       "      <th></th>\n",
       "      <th>id</th>\n",
       "      <th>title</th>\n",
       "      <th>year</th>\n",
       "    </tr>\n",
       "  </thead>\n",
       "  <tbody>\n",
       "    <tr>\n",
       "      <th>0</th>\n",
       "      <td>15724</td>\n",
       "      <td>Dama de noche</td>\n",
       "      <td>1993</td>\n",
       "    </tr>\n",
       "    <tr>\n",
       "      <th>1</th>\n",
       "      <td>23331</td>\n",
       "      <td>Pesn o geroyakh</td>\n",
       "      <td>1983</td>\n",
       "    </tr>\n",
       "    <tr>\n",
       "      <th>2</th>\n",
       "      <td>31458</td>\n",
       "      <td>El huésped del sevillano</td>\n",
       "      <td>1970</td>\n",
       "    </tr>\n",
       "    <tr>\n",
       "      <th>3</th>\n",
       "      <td>35423</td>\n",
       "      <td>Kate &amp; Leopold</td>\n",
       "      <td>2001</td>\n",
       "    </tr>\n",
       "    <tr>\n",
       "      <th>4</th>\n",
       "      <td>36606</td>\n",
       "      <td>Another Time, Another Place</td>\n",
       "      <td>1983</td>\n",
       "    </tr>\n",
       "  </tbody>\n",
       "</table>\n",
       "</div>"
      ]
     },
     "metadata": {},
     "execution_count": 129
    }
   ],
   "metadata": {}
  },
  {
   "cell_type": "code",
   "execution_count": 42,
   "source": [
    "peoples.head()"
   ],
   "outputs": [
    {
     "output_type": "execute_result",
     "data": {
      "text/plain": [
       "     id            name  birth\n",
       "0   102     Kevin Bacon   1958\n",
       "1   129      Tom Cruise   1962\n",
       "2   144      Cary Elwes   1962\n",
       "3   158       Tom Hanks   1956\n",
       "4  1597  Mandy Patinkin   1952"
      ],
      "text/html": [
       "<div>\n",
       "<style scoped>\n",
       "    .dataframe tbody tr th:only-of-type {\n",
       "        vertical-align: middle;\n",
       "    }\n",
       "\n",
       "    .dataframe tbody tr th {\n",
       "        vertical-align: top;\n",
       "    }\n",
       "\n",
       "    .dataframe thead th {\n",
       "        text-align: right;\n",
       "    }\n",
       "</style>\n",
       "<table border=\"1\" class=\"dataframe\">\n",
       "  <thead>\n",
       "    <tr style=\"text-align: right;\">\n",
       "      <th></th>\n",
       "      <th>id</th>\n",
       "      <th>name</th>\n",
       "      <th>birth</th>\n",
       "    </tr>\n",
       "  </thead>\n",
       "  <tbody>\n",
       "    <tr>\n",
       "      <th>0</th>\n",
       "      <td>102</td>\n",
       "      <td>Kevin Bacon</td>\n",
       "      <td>1958</td>\n",
       "    </tr>\n",
       "    <tr>\n",
       "      <th>1</th>\n",
       "      <td>129</td>\n",
       "      <td>Tom Cruise</td>\n",
       "      <td>1962</td>\n",
       "    </tr>\n",
       "    <tr>\n",
       "      <th>2</th>\n",
       "      <td>144</td>\n",
       "      <td>Cary Elwes</td>\n",
       "      <td>1962</td>\n",
       "    </tr>\n",
       "    <tr>\n",
       "      <th>3</th>\n",
       "      <td>158</td>\n",
       "      <td>Tom Hanks</td>\n",
       "      <td>1956</td>\n",
       "    </tr>\n",
       "    <tr>\n",
       "      <th>4</th>\n",
       "      <td>1597</td>\n",
       "      <td>Mandy Patinkin</td>\n",
       "      <td>1952</td>\n",
       "    </tr>\n",
       "  </tbody>\n",
       "</table>\n",
       "</div>"
      ]
     },
     "metadata": {},
     "execution_count": 42
    }
   ],
   "metadata": {}
  },
  {
   "cell_type": "code",
   "execution_count": 43,
   "source": [
    "stars.head()"
   ],
   "outputs": [
    {
     "output_type": "execute_result",
     "data": {
      "text/plain": [
       "   person_id  movie_id\n",
       "0        102    104257\n",
       "1        102    112384\n",
       "2        129    104257\n",
       "3        129     95953\n",
       "4        144     93779"
      ],
      "text/html": [
       "<div>\n",
       "<style scoped>\n",
       "    .dataframe tbody tr th:only-of-type {\n",
       "        vertical-align: middle;\n",
       "    }\n",
       "\n",
       "    .dataframe tbody tr th {\n",
       "        vertical-align: top;\n",
       "    }\n",
       "\n",
       "    .dataframe thead th {\n",
       "        text-align: right;\n",
       "    }\n",
       "</style>\n",
       "<table border=\"1\" class=\"dataframe\">\n",
       "  <thead>\n",
       "    <tr style=\"text-align: right;\">\n",
       "      <th></th>\n",
       "      <th>person_id</th>\n",
       "      <th>movie_id</th>\n",
       "    </tr>\n",
       "  </thead>\n",
       "  <tbody>\n",
       "    <tr>\n",
       "      <th>0</th>\n",
       "      <td>102</td>\n",
       "      <td>104257</td>\n",
       "    </tr>\n",
       "    <tr>\n",
       "      <th>1</th>\n",
       "      <td>102</td>\n",
       "      <td>112384</td>\n",
       "    </tr>\n",
       "    <tr>\n",
       "      <th>2</th>\n",
       "      <td>129</td>\n",
       "      <td>104257</td>\n",
       "    </tr>\n",
       "    <tr>\n",
       "      <th>3</th>\n",
       "      <td>129</td>\n",
       "      <td>95953</td>\n",
       "    </tr>\n",
       "    <tr>\n",
       "      <th>4</th>\n",
       "      <td>144</td>\n",
       "      <td>93779</td>\n",
       "    </tr>\n",
       "  </tbody>\n",
       "</table>\n",
       "</div>"
      ]
     },
     "metadata": {},
     "execution_count": 43
    }
   ],
   "metadata": {}
  },
  {
   "cell_type": "code",
   "execution_count": 130,
   "source": [
    "person_to_id = {} #persons name to their id\n",
    "personid_to_movie_person = {} # person id to their name and their movie\n",
    "movieid_to_movie_person = {} # id of movie to name of movie\n",
    "\n",
    "for elem in peoples.iloc[:].values.tolist():\n",
    "    person_to_id.update({elem[1]: elem[0]})\n",
    "    person_id = elem[0]\n",
    "    info = {}\n",
    "    info['name'] = elem[1]\n",
    "    info['birth'] = elem[-1]\n",
    "    info['movies'] = set()\n",
    "    personid_to_movie_person.update({person_id: info})\n",
    "\n",
    "for elem in movies.iloc[:].values.tolist():\n",
    "    title_year = {}\n",
    "    title_year['title'] = elem[1]\n",
    "    title_year['year'] = elem[-1]\n",
    "    title_year['star'] = set()\n",
    "    keys = elem[0]\n",
    "    movieid_to_movie_person.update({keys: title_year})\n",
    "\n",
    "for elem in stars.iloc[:].values.tolist():\n",
    "    person_id, movie_id = elem[0], elem[1]\n",
    "    name_and_movie = {}\n",
    "    try:\n",
    "        movieid_to_movie_person[movie_id]['star'].add(person_id)\n",
    "        personid_to_movie_person[person_id]['movies'].add(movie_id)\n",
    "    except KeyError:\n",
    "        continue"
   ],
   "outputs": [],
   "metadata": {}
  },
  {
   "cell_type": "code",
   "execution_count": 45,
   "source": [
    "movieid_to_movie_person"
   ],
   "outputs": [
    {
     "output_type": "execute_result",
     "data": {
      "text/plain": [
       "{112384: {'title': 'Apollo 13', 'year': 1995, 'star': {102, 158, 200, 641}},\n",
       " 104257: {'title': 'A Few Good Men',\n",
       "  'year': 1992,\n",
       "  'star': {102, 129, 193, 197}},\n",
       " 109830: {'title': 'Forrest Gump', 'year': 1994, 'star': {158, 398, 641, 705}},\n",
       " 93779: {'title': 'The Princess Bride',\n",
       "  'year': 1987,\n",
       "  'star': {144, 705, 1597, 1697}},\n",
       " 95953: {'title': 'Rain Man', 'year': 1988, 'star': {129, 163, 420, 596520}}}"
      ]
     },
     "metadata": {},
     "execution_count": 45
    }
   ],
   "metadata": {}
  },
  {
   "cell_type": "code",
   "execution_count": 46,
   "source": [
    "personid_to_movie_person\n",
    "    "
   ],
   "outputs": [
    {
     "output_type": "execute_result",
     "data": {
      "text/plain": [
       "{102: {'name': 'Kevin Bacon', 'birth': 1958, 'movies': {104257, 112384}},\n",
       " 129: {'name': 'Tom Cruise', 'birth': 1962, 'movies': {95953, 104257}},\n",
       " 144: {'name': 'Cary Elwes', 'birth': 1962, 'movies': {93779}},\n",
       " 158: {'name': 'Tom Hanks', 'birth': 1956, 'movies': {109830, 112384}},\n",
       " 1597: {'name': 'Mandy Patinkin', 'birth': 1952, 'movies': {93779}},\n",
       " 163: {'name': 'Dustin Hoffman', 'birth': 1937, 'movies': {95953}},\n",
       " 1697: {'name': 'Chris Sarandon', 'birth': 1942, 'movies': {93779}},\n",
       " 193: {'name': 'Demi Moore', 'birth': 1962, 'movies': {104257}},\n",
       " 197: {'name': 'Jack Nicholson', 'birth': 1937, 'movies': {104257}},\n",
       " 200: {'name': 'Bill Paxton', 'birth': 1955, 'movies': {112384}},\n",
       " 398: {'name': 'Sally Field', 'birth': 1946, 'movies': {109830}},\n",
       " 420: {'name': 'Valeria Golino', 'birth': 1965, 'movies': {95953}},\n",
       " 596520: {'name': 'Gerald R. Molen', 'birth': 1935, 'movies': {95953}},\n",
       " 641: {'name': 'Gary Sinise', 'birth': 1955, 'movies': {109830, 112384}},\n",
       " 705: {'name': 'Robin Wright', 'birth': 1966, 'movies': {93779, 109830}},\n",
       " 914612: {'name': 'Emma Watson', 'birth': 1990, 'movies': set()}}"
      ]
     },
     "metadata": {},
     "execution_count": 46
    }
   ],
   "metadata": {}
  },
  {
   "cell_type": "code",
   "execution_count": 47,
   "source": [
    "person_to_id"
   ],
   "outputs": [
    {
     "output_type": "execute_result",
     "data": {
      "text/plain": [
       "{'Kevin Bacon': 102,\n",
       " 'Tom Cruise': 129,\n",
       " 'Cary Elwes': 144,\n",
       " 'Tom Hanks': 158,\n",
       " 'Mandy Patinkin': 1597,\n",
       " 'Dustin Hoffman': 163,\n",
       " 'Chris Sarandon': 1697,\n",
       " 'Demi Moore': 193,\n",
       " 'Jack Nicholson': 197,\n",
       " 'Bill Paxton': 200,\n",
       " 'Sally Field': 398,\n",
       " 'Valeria Golino': 420,\n",
       " 'Gerald R. Molen': 596520,\n",
       " 'Gary Sinise': 641,\n",
       " 'Robin Wright': 705,\n",
       " 'Emma Watson': 914612}"
      ]
     },
     "metadata": {},
     "execution_count": 47
    }
   ],
   "metadata": {}
  },
  {
   "cell_type": "code",
   "execution_count": 101,
   "source": [
    "def get_person_id(person_name):\n",
    "    try:\n",
    "        return person_to_id[person_name]\n",
    "    except KeyError:\n",
    "        raise ValueError(f'{person_name} not exist in dataset')\n",
    "\n",
    "def get_name_from_id(person_id):\n",
    "    try:\n",
    "        return personid_to_movie_person[person_id]['name']\n",
    "    except KeyError:\n",
    "        raise ValueError(f'{person_id} not exist in dataset')\n",
    "\n",
    "def get_input():\n",
    "    while True:\n",
    "        first_person = input('Enter first person:').lower().title()\n",
    "        if first_person == '':\n",
    "            break\n",
    "        try:\n",
    "            id_first_person = get_person_id(first_person)\n",
    "            print(f'Found {first_person}!')\n",
    "            break\n",
    "        except ValueError as e:\n",
    "            print(e)\n",
    "            continue\n",
    "    while True:\n",
    "        second_person = input('Enter second person:').lower().title()\n",
    "        if second_person == '':\n",
    "            break\n",
    "        try:\n",
    "            id_second_person = get_person_id(second_person)\n",
    "            print(f'Found {second_person}!')\n",
    "            break\n",
    "        except ValueError as e:\n",
    "            print(e)\n",
    "            continue\n",
    "    return id_first_person, id_second_person"
   ],
   "outputs": [],
   "metadata": {}
  },
  {
   "cell_type": "code",
   "execution_count": 127,
   "source": [
    "def neightbors_person(person_id):\n",
    "    # Return id and movie of person who star with person_id\n",
    "    neightbors = set()\n",
    "    try:\n",
    "        movie_ids = personid_to_movie_person[person_id]['movies']\n",
    "        for movie_id in movie_ids:\n",
    "            for person_id_neighbor in movieid_to_movie_person[movie_id]['star']:\n",
    "                # if person_id == person_id_neighbor:\n",
    "                #     continue\n",
    "                neightbors.add((movie_id, person_id_neighbor))\n",
    "    except KeyError:\n",
    "        pass\n",
    "    return neightbors # set of tuple"
   ],
   "outputs": [],
   "metadata": {}
  },
  {
   "cell_type": "code",
   "execution_count": 128,
   "source": [
    "# Start -> Hanks: 158, Goal -> Cruise: 129\n",
    "print(sorted(neightbors_person(158), key=lambda x: x[1]))"
   ],
   "outputs": [
    {
     "output_type": "stream",
     "name": "stdout",
     "text": [
      "[(112384, 102), (112384, 158), (109830, 158), (112384, 200), (109830, 398), (112384, 641), (109830, 641), (109830, 705)]\n"
     ]
    }
   ],
   "metadata": {}
  },
  {
   "cell_type": "code",
   "execution_count": 103,
   "source": [
    "from util import Node, QueueFrontier, StackFrontier"
   ],
   "outputs": [],
   "metadata": {}
  },
  {
   "cell_type": "code",
   "execution_count": null,
   "source": [
    "frontier = QueueFrontier() # BFS\n",
    "num_explored = 0\n",
    "explored = set()\n",
    "start_id, goal_id = get_input()\n",
    "\n",
    "start = Node(state=start_id, action=None, parent=None)\n",
    "frontier.add(start)\n",
    "\n",
    "solutions = []\n",
    "\n",
    "while True:\n",
    "    if frontier.empty():\n",
    "        print('Frontier is empty. No solution')\n",
    "        break\n",
    "    \n",
    "    node = frontier.remove()\n",
    "    num_explored += 1\n",
    "    \n",
    "    if node.state == goal_id:\n",
    "        while node.parent is not None:\n",
    "            movie_id = node.action\n",
    "            person_id = node.state\n",
    "            solutions.append((movie_id, person_id))\n",
    "            node = node.parent\n",
    "        solutions.reverse()\n",
    "        break\n",
    "    \n",
    "    explored.add(node.state)\n",
    "    \n",
    "    for action, state in neightbors_person(node.state):\n",
    "        if state not in explored:\n",
    "            child = Node(state=state, parent=node, action=action)\n",
    "            frontier.add(child)"
   ],
   "outputs": [],
   "metadata": {}
  },
  {
   "cell_type": "code",
   "execution_count": 94,
   "source": [
    "num_explored"
   ],
   "outputs": [
    {
     "output_type": "execute_result",
     "data": {
      "text/plain": [
       "10"
      ]
     },
     "metadata": {},
     "execution_count": 94
    }
   ],
   "metadata": {}
  },
  {
   "cell_type": "code",
   "execution_count": 116,
   "source": [
    "solutions"
   ],
   "outputs": [
    {
     "output_type": "execute_result",
     "data": {
      "text/plain": [
       "[(112384, 102), (104257, 129)]"
      ]
     },
     "metadata": {},
     "execution_count": 116
    }
   ],
   "metadata": {}
  },
  {
   "cell_type": "code",
   "execution_count": 80,
   "source": [
    "def get_name_movie(movie_id):\n",
    "    try:\n",
    "        return movieid_to_movie_person[movie_id]['title']\n",
    "    except KeyError:\n",
    "        print(f'No title of {movie_id} id found!')\n",
    "    return 'Not Found'"
   ],
   "outputs": [],
   "metadata": {}
  },
  {
   "cell_type": "code",
   "execution_count": 121,
   "source": [
    "print(len(solutions),'degrees of seperation')\n",
    "for i in range(0, len(solutions)):\n",
    "    if i == 0:\n",
    "        name1 = get_name_from_id(start_id)\n",
    "    else:\n",
    "        person1 = solutions[i - 1][1]\n",
    "        name1 = get_name_from_id(person1)\n",
    "    person2 = solutions[i][1]\n",
    "    name2 = get_name_from_id(person2)\n",
    "    film = solutions[i][0]\n",
    "    film_name = get_name_movie(film)\n",
    "    \n",
    "    print(f'{i+1}: {name1} and {name2} starred in movie \"{film_name}\"')"
   ],
   "outputs": [
    {
     "output_type": "stream",
     "name": "stdout",
     "text": [
      "2 degrees of seperation\n",
      "1: Tom Cruise and Kevin Bacon starred in movie \"A Few Good Men\"\n",
      "2: Kevin Bacon and Tom Hanks starred in movie \"Apollo 13\"\n"
     ]
    }
   ],
   "metadata": {}
  }
 ],
 "metadata": {
  "orig_nbformat": 4,
  "language_info": {
   "name": "python",
   "version": "3.8.11",
   "mimetype": "text/x-python",
   "codemirror_mode": {
    "name": "ipython",
    "version": 3
   },
   "pygments_lexer": "ipython3",
   "nbconvert_exporter": "python",
   "file_extension": ".py"
  },
  "kernelspec": {
   "name": "python3",
   "display_name": "Python 3.8.11 64-bit ('python_ai': conda)"
  },
  "interpreter": {
   "hash": "673a2ca7ccb4a339972aa9ca4c929282fec68bbeff52950d362f3784e4401195"
  }
 },
 "nbformat": 4,
 "nbformat_minor": 2
}